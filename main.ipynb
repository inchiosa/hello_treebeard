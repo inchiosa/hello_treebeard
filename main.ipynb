{
 "cells": [
  {
   "cell_type": "markdown",
   "metadata": {},
   "source": [
    "# Mario, Hello Treebeard!\n",
    "\n",
    "Thanks for trying out Treebeard's cloud deploy and scheduling service.  \n",
    "\n",
    "\n",
    "1. [Requirements](#Requirements)\n",
    "2. [Outputs](#Outputs)\n",
    "3. [Examples](#Examples)\n",
    "    - [Call an API](#Call-an-API)\n",
    "    - [Check a hosted file](#Check-a-hosted-file)"
   ]
  },
  {
   "cell_type": "markdown",
   "metadata": {},
   "source": [
    "## Requirements"
   ]
  },
  {
   "cell_type": "code",
   "execution_count": 1,
   "metadata": {},
   "outputs": [],
   "source": [
    "import treebeard\n",
    "# This notebook does not depend on the treebeard library, but it should be present in your requirements file.\n",
    "# The underlying build service sends this notebook to a cloud server which uses the papermill library to run\n",
    "# the notebook. Having treebeard as a dependency ensure this functions correctly."
   ]
  },
  {
   "cell_type": "markdown",
   "metadata": {},
   "source": [
    "There must be a dependencies file alongside this notebook, either requirements.txt, a pipenv Pipfile, or a Conda environment.yml file."
   ]
  },
  {
   "cell_type": "code",
   "execution_count": 2,
   "metadata": {},
   "outputs": [],
   "source": [
    "# Setup\n",
    "import os\n",
    "import matplotlib.pyplot as plt \n",
    "import requests\n",
    "import json\n",
    "import pandas as pd\n",
    "import numpy as np\n",
    "import seaborn as sns\n",
    "%matplotlib inline"
   ]
  },
  {
   "cell_type": "markdown",
   "metadata": {},
   "source": [
    "## Output"
   ]
  },
  {
   "cell_type": "markdown",
   "metadata": {},
   "source": [
    "**Output** from your notebooks should be saved in an `output` directory.  \n",
    "If so, they will be saved on the cloud build server, versioned, and made available via URL endpoints.  \n",
    "They can be listed on the Treebeard admin page that you can find after running a build."
   ]
  },
  {
   "cell_type": "code",
   "execution_count": 3,
   "metadata": {},
   "outputs": [],
   "source": [
    "# create an outputs directory if it does not exist\n",
    "if 'output' not in os.listdir(): os.mkdir('output')"
   ]
  },
  {
   "cell_type": "markdown",
   "metadata": {},
   "source": [
    "# Examples\n",
    "\n",
    "Here are a few simple examples of data that might be interesting to check over time.\n",
    "\n",
    "## Call an API"
   ]
  },
  {
   "cell_type": "markdown",
   "metadata": {},
   "source": [
    "What's the current price of BitCoin?"
   ]
  },
  {
   "cell_type": "code",
   "execution_count": 4,
   "metadata": {},
   "outputs": [
    {
     "name": "stdout",
     "output_type": "stream",
     "text": [
      "At Feb 11, 2020 at 11:42 GMT, the price of Bitcoin is £7,579.0896\n"
     ]
    }
   ],
   "source": [
    "r = requests.get('https://api.coindesk.com/v1/bpi/currentprice.json').json()\n",
    "print(f\"At {r['time']['updateduk']}, the price of Bitcoin is £{r['bpi']['GBP']['rate']}\")\n",
    "# This data was produced from the CoinDesk Bitcoin Price Index (USD). Non-USD currency data converted using hourly conversion rate from openexchangerates.org"
   ]
  },
  {
   "cell_type": "markdown",
   "metadata": {},
   "source": [
    "See the last 30 days of the price of Bitcoin, thanks to CoinDesk's API"
   ]
  },
  {
   "cell_type": "code",
   "execution_count": 5,
   "metadata": {},
   "outputs": [
    {
     "data": {
      "image/png": "[encoded data removed]",
      "text/plain": [
       "<Figure size 432x288 with 2 Axes>"
      ]
     },
     "metadata": {
      "needs_background": "light"
     },
     "output_type": "display_data"
    }
   ],
   "source": [
    "r = requests.get('https://api.coindesk.com/v1/bpi/historical/close.json').json()\n",
    "\n",
    "fig, ax = plt.subplots()\n",
    "ax.plot(pd.DataFrame.from_dict(r)['bpi'][:-2], color='red', linestyle='--')\n",
    "ax.set_ylabel('Bitcoin Price (£)')\n",
    "fig.suptitle('Last 30 Days of Bitcoin Price', size=16)\n",
    "plt.gca().spines['top'].set_visible(False)\n",
    "plt.gca().spines['right'].set_visible(False)\n",
    "ax.xaxis.set_major_locator(plt.MaxNLocator(4))\n",
    "\n",
    "im = plt.imread('https://emojipedia-us.s3.dualstack.us-west-1.amazonaws.com/thumbs/320/apple/237/money-with-wings_1f4b8.png')\n",
    "newax = fig.add_axes([0.8, 0.8, 0.2, 0.2], anchor='NE')\n",
    "newax.imshow(im)\n",
    "newax.axis('off')\n",
    "plt.savefig('output/bitcoin_price.png', dpi=150, bbox_inches='tight')"
   ]
  },
  {
   "cell_type": "markdown",
   "metadata": {},
   "source": [
    "## Check a hosted file\n",
    "\n",
    "The [Mauna Loa Observatory](https://www.esrl.noaa.gov/gmd/obop/mlo/) is a USA NOAA Earth System Research Laboratory.  \n",
    "It publishes measurements of **atmospheric CO2 concentration** regularly.  \n",
    "The Observatory publishes its own charts [here](https://www.esrl.noaa.gov/gmd/ccgg/trends/mlo.html), but we can recreate them."
   ]
  },
  {
   "cell_type": "code",
   "execution_count": 6,
   "metadata": {},
   "outputs": [],
   "source": [
    "# Weekly CO2 data is published here, there are also other datafeeds available\n",
    "url = \"ftp://aftp.cmdl.noaa.gov/products/trends/co2/co2_weekly_mlo.txt\""
   ]
  },
  {
   "cell_type": "code",
   "execution_count": 7,
   "metadata": {},
   "outputs": [],
   "source": [
    "# Pandas can read remote URL file contents\n",
    "# Skip the first 49 rows as they are explanatory text\n",
    "# Reading them is helpful though as they define the column names and missing number fills\n",
    "df = pd.read_table(url, skiprows=49, header=None)"
   ]
  },
  {
   "cell_type": "code",
   "execution_count": 8,
   "metadata": {},
   "outputs": [
    {
     "data": {
      "text/plain": [
       "0      1974   5  19  1974.3795    333.34  6        ...\n",
       "1      1974   5  26  1974.3986    332.95  6        ...\n",
       "2      1974   6   2  1974.4178    332.32  5        ...\n",
       "3      1974   6   9  1974.4370    332.18  7        ...\n",
       "4      1974   6  16  1974.4562    332.37  7        ...\n",
       "Name: 0, dtype: object"
      ]
     },
     "execution_count": 8,
     "metadata": {},
     "output_type": "execute_result"
    }
   ],
   "source": [
    "df[0].head()"
   ]
  },
  {
   "cell_type": "code",
   "execution_count": 9,
   "metadata": {},
   "outputs": [],
   "source": [
    "# Use a regex to turn the variable whitespace between columns into commas\n",
    "df[0] = df[0].str.strip().str.replace(\"(\\s{1,})\", \",\")"
   ]
  },
  {
   "cell_type": "code",
   "execution_count": 10,
   "metadata": {},
   "outputs": [],
   "source": [
    "# Split the column by commas and expand into columns\n",
    "df = df[0].str.split(',', expand=True)"
   ]
  },
  {
   "cell_type": "code",
   "execution_count": 11,
   "metadata": {},
   "outputs": [],
   "source": [
    "# Set the column headers\n",
    "columns = [\"yr\", \"mon\", \"day\", \"decimal\", \"ppm\", \"days\", \"1_yr_ago\", \"10_yr_ago\", \"since_1800\"]\n",
    "df.columns=columns"
   ]
  },
  {
   "cell_type": "code",
   "execution_count": 12,
   "metadata": {},
   "outputs": [],
   "source": [
    "# Replace -999.99 with NAs\n",
    "df = df.replace('-999.99', np.nan)"
   ]
  },
  {
   "cell_type": "code",
   "execution_count": 13,
   "metadata": {},
   "outputs": [],
   "source": [
    "# Create datetime column\n",
    "df['date'] = pd.to_datetime(dict(year=df['yr'], month=df['mon'], day=df['day']))"
   ]
  },
  {
   "cell_type": "code",
   "execution_count": 14,
   "metadata": {},
   "outputs": [],
   "source": [
    "# Set types\n",
    "df['ppm'] = df['ppm'].apply(pd.to_numeric)"
   ]
  },
  {
   "cell_type": "code",
   "execution_count": 15,
   "metadata": {},
   "outputs": [
    {
     "data": {
      "text/html": [
       "<div>\n",
       "<style scoped>\n",
       "    .dataframe tbody tr th:only-of-type {\n",
       "        vertical-align: middle;\n",
       "    }\n",
       "\n",
       "    .dataframe tbody tr th {\n",
       "        vertical-align: top;\n",
       "    }\n",
       "\n",
       "    .dataframe thead th {\n",
       "        text-align: right;\n",
       "    }\n",
       "</style>\n",
       "<table border=\"1\" class=\"dataframe\">\n",
       "  <thead>\n",
       "    <tr style=\"text-align: right;\">\n",
       "      <th></th>\n",
       "      <th>yr</th>\n",
       "      <th>mon</th>\n",
       "      <th>day</th>\n",
       "      <th>decimal</th>\n",
       "      <th>ppm</th>\n",
       "      <th>days</th>\n",
       "      <th>1_yr_ago</th>\n",
       "      <th>10_yr_ago</th>\n",
       "      <th>since_1800</th>\n",
       "      <th>date</th>\n",
       "    </tr>\n",
       "  </thead>\n",
       "  <tbody>\n",
       "    <tr>\n",
       "      <th>2381</th>\n",
       "      <td>2020</td>\n",
       "      <td>1</td>\n",
       "      <td>5</td>\n",
       "      <td>2020.0123</td>\n",
       "      <td>413.37</td>\n",
       "      <td>7</td>\n",
       "      <td>409.94</td>\n",
       "      <td>388.21</td>\n",
       "      <td>133.26</td>\n",
       "      <td>2020-01-05</td>\n",
       "    </tr>\n",
       "    <tr>\n",
       "      <th>2382</th>\n",
       "      <td>2020</td>\n",
       "      <td>1</td>\n",
       "      <td>12</td>\n",
       "      <td>2020.0314</td>\n",
       "      <td>412.82</td>\n",
       "      <td>6</td>\n",
       "      <td>410.66</td>\n",
       "      <td>388.41</td>\n",
       "      <td>132.52</td>\n",
       "      <td>2020-01-12</td>\n",
       "    </tr>\n",
       "    <tr>\n",
       "      <th>2383</th>\n",
       "      <td>2020</td>\n",
       "      <td>1</td>\n",
       "      <td>19</td>\n",
       "      <td>2020.0505</td>\n",
       "      <td>413.65</td>\n",
       "      <td>7</td>\n",
       "      <td>412.19</td>\n",
       "      <td>388.27</td>\n",
       "      <td>133.18</td>\n",
       "      <td>2020-01-19</td>\n",
       "    </tr>\n",
       "    <tr>\n",
       "      <th>2384</th>\n",
       "      <td>2020</td>\n",
       "      <td>1</td>\n",
       "      <td>26</td>\n",
       "      <td>2020.0697</td>\n",
       "      <td>414.09</td>\n",
       "      <td>7</td>\n",
       "      <td>411.06</td>\n",
       "      <td>389.37</td>\n",
       "      <td>133.49</td>\n",
       "      <td>2020-01-26</td>\n",
       "    </tr>\n",
       "    <tr>\n",
       "      <th>2385</th>\n",
       "      <td>2020</td>\n",
       "      <td>2</td>\n",
       "      <td>2</td>\n",
       "      <td>2020.0888</td>\n",
       "      <td>414.33</td>\n",
       "      <td>7</td>\n",
       "      <td>411.11</td>\n",
       "      <td>390.67</td>\n",
       "      <td>133.62</td>\n",
       "      <td>2020-02-02</td>\n",
       "    </tr>\n",
       "  </tbody>\n",
       "</table>\n",
       "</div>"
      ],
      "text/plain": [
       "        yr mon day    decimal     ppm days 1_yr_ago 10_yr_ago since_1800  \\\n",
       "2381  2020   1   5  2020.0123  413.37    7   409.94    388.21     133.26   \n",
       "2382  2020   1  12  2020.0314  412.82    6   410.66    388.41     132.52   \n",
       "2383  2020   1  19  2020.0505  413.65    7   412.19    388.27     133.18   \n",
       "2384  2020   1  26  2020.0697  414.09    7   411.06    389.37     133.49   \n",
       "2385  2020   2   2  2020.0888  414.33    7   411.11    390.67     133.62   \n",
       "\n",
       "           date  \n",
       "2381 2020-01-05  \n",
       "2382 2020-01-12  \n",
       "2383 2020-01-19  \n",
       "2384 2020-01-26  \n",
       "2385 2020-02-02  "
      ]
     },
     "execution_count": 15,
     "metadata": {},
     "output_type": "execute_result"
    }
   ],
   "source": [
    "df.tail()"
   ]
  },
  {
   "cell_type": "code",
   "execution_count": 16,
   "metadata": {},
   "outputs": [
    {
     "data": {
      "image/png": "[encoded data removed]",
      "text/plain": [
       "<Figure size 576x576 with 1 Axes>"
      ]
     },
     "metadata": {},
     "output_type": "display_data"
    }
   ],
   "source": [
    "sns.set()\n",
    "fig, ax = plt.subplots(figsize=(8,8))\n",
    "sns.lineplot(x='date', y='ppm', data=df)\n",
    "plt.title(\"Weekly Atmospheric CO2 concentration at Mauna Loa Observatory\")\n",
    "plt.savefig('output/co2_concentration.png', dpi=150, bbox_inches='tight')"
   ]
  },
  {
   "cell_type": "code",
   "execution_count": null,
   "metadata": {},
   "outputs": [],
   "source": []
  }
 ],
 "metadata": {
  "kernelspec": {
   "display_name": "Python 3",
   "language": "python",
   "name": "python3"
  },
  "language_info": {
   "codemirror_mode": {
    "name": "ipython",
    "version": 3
   },
   "file_extension": ".py",
   "mimetype": "text/x-python",
   "name": "python",
   "nbconvert_exporter": "python",
   "pygments_lexer": "ipython3",
   "version": "3.7.1"
  },
  "toc": {
   "base_numbering": 1,
   "nav_menu": {
    "height": "134px",
    "width": "215px"
   },
   "number_sections": true,
   "sideBar": true,
   "skip_h1_title": false,
   "title_cell": "Table of Contents",
   "title_sidebar": "Contents",
   "toc_cell": false,
   "toc_position": {},
   "toc_section_display": true,
   "toc_window_display": false
  }
 },
 "nbformat": 4,
 "nbformat_minor": 4
}
